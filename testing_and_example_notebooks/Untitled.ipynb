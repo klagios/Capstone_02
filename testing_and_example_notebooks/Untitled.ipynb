{
 "cells": [
  {
   "cell_type": "code",
   "execution_count": 4,
   "id": "37be81eb-2586-4d2a-a3b0-a72ba924cf33",
   "metadata": {},
   "outputs": [
    {
     "data": {
      "text/plain": [
       "array([0.03773776, 0.6060542 , 0.85967227, 0.48019651, 0.94447906])"
      ]
     },
     "execution_count": 4,
     "metadata": {},
     "output_type": "execute_result"
    }
   ],
   "source": [
    "import numpy as np\n",
    "np.random.rand(5)"
   ]
  },
  {
   "cell_type": "code",
   "execution_count": 5,
   "id": "9b81a558-ab6a-4d45-9707-713cfd2077c3",
   "metadata": {},
   "outputs": [
    {
     "data": {
      "text/plain": [
       "array([False, False, False,  True,  True])"
      ]
     },
     "execution_count": 5,
     "metadata": {},
     "output_type": "execute_result"
    }
   ],
   "source": [
    "np.random.rand(5)<0.51"
   ]
  },
  {
   "cell_type": "code",
   "execution_count": 6,
   "id": "028852cd-9c04-4cd6-a6fa-0fb8fbcc2688",
   "metadata": {},
   "outputs": [
    {
     "data": {
      "text/plain": [
       "array(['Brown', 'Green', 'Green', 'Brown', 'Green'], dtype='<U5')"
      ]
     },
     "execution_count": 6,
     "metadata": {},
     "output_type": "execute_result"
    }
   ],
   "source": [
    "np.where(np.random.rand(5)<0.51, 'Brown', 'Green')"
   ]
  },
  {
   "cell_type": "code",
   "execution_count": null,
   "id": "2b4dcb6d-8746-4df3-81d5-ca1fc37913ca",
   "metadata": {},
   "outputs": [],
   "source": []
  }
 ],
 "metadata": {
  "kernelspec": {
   "display_name": "Python 3 (ipykernel)",
   "language": "python",
   "name": "python3"
  },
  "language_info": {
   "codemirror_mode": {
    "name": "ipython",
    "version": 3
   },
   "file_extension": ".py",
   "mimetype": "text/x-python",
   "name": "python",
   "nbconvert_exporter": "python",
   "pygments_lexer": "ipython3",
   "version": "3.12.4"
  }
 },
 "nbformat": 4,
 "nbformat_minor": 5
}
