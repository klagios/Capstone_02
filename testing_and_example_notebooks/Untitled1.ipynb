{
 "cells": [
  {
   "cell_type": "code",
   "execution_count": 25,
   "id": "684c3e8c-86d3-4820-9694-93f0eb6290d4",
   "metadata": {},
   "outputs": [
    {
     "name": "stdout",
     "output_type": "stream",
     "text": [
      "(31, 12)\n",
      "     1     2     3     4     5     6    7     8     9     10    11    12\n",
      "0  14.8  12.0  19.3  15.3  13.0   9.7  7.4   6.8   6.0  11.3  15.4  13.3\n",
      "1  13.3  12.2  17.3  14.7  13.9   8.2  7.3   9.8   9.5  10.5  11.8  13.2\n",
      "2  15.6  14.8  19.0  11.0  12.6   8.4  7.7   5.7   8.6   9.9  13.0  16.2\n",
      "3  14.5  14.8  19.8  12.2  14.3   8.5  7.7   8.6   7.6  11.0  11.1  17.3\n",
      "4  14.3  14.4  19.3  14.2  16.0  10.4  9.3  10.6  10.4  14.0  12.5  20.5\n"
     ]
    },
    {
     "data": {
      "text/plain": [
       "<Axes: >"
      ]
     },
     "execution_count": 25,
     "metadata": {},
     "output_type": "execute_result"
    }
   ],
   "source": [
    "# create a boxplot of monthly data\n",
    "import pandas as pd\n",
    "from pandas import read_csv\n",
    "from pandas import DataFrame\n",
    "from pandas import Grouper\n",
    "from matplotlib import pyplot\n",
    "from pandas import concat\n",
    "series = read_csv('raw_data/daily_min_temperatures_example.csv', header=0, index_col=0, parse_dates=True)\n",
    "series.index = pd.to_datetime(series.index, utc=True)\n",
    "one_year = series.loc['1990']\n",
    "#print(one_year)\n",
    "groups = one_year.groupby(Grouper(freq='ME'))\n",
    "months = concat([DataFrame(x[1].values) for x in groups], axis=1)\n",
    "print(months.shape)\n",
    "months = DataFrame(months)\n",
    "months.columns = range(1,13)\n",
    "print(months.head())\n",
    "months.boxplot()"
   ]
  },
  {
   "cell_type": "code",
   "execution_count": null,
   "id": "373876cc-3c04-4b0a-8006-9b886e247c25",
   "metadata": {},
   "outputs": [],
   "source": []
  }
 ],
 "metadata": {
  "kernelspec": {
   "display_name": "Python 3 (ipykernel)",
   "language": "python",
   "name": "python3"
  },
  "language_info": {
   "codemirror_mode": {
    "name": "ipython",
    "version": 3
   },
   "file_extension": ".py",
   "mimetype": "text/x-python",
   "name": "python",
   "nbconvert_exporter": "python",
   "pygments_lexer": "ipython3",
   "version": "3.12.4"
  }
 },
 "nbformat": 4,
 "nbformat_minor": 5
}
